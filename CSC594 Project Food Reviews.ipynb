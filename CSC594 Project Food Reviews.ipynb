{
 "cells": [
  {
   "cell_type": "markdown",
   "metadata": {},
   "source": [
    "# Yingting Guan Final Project Code"
   ]
  },
  {
   "cell_type": "code",
   "execution_count": 1,
   "metadata": {
    "collapsed": false
   },
   "outputs": [
    {
     "name": "stdout",
     "output_type": "stream",
     "text": [
      "E:\\courses\\CSC594 Natural Language Processing\\project\\amazon-fine-food-reviews\n"
     ]
    }
   ],
   "source": [
    "cd E:\\courses\\CSC594 Natural Language Processing\\project\\amazon-fine-food-reviews"
   ]
  },
  {
   "cell_type": "code",
   "execution_count": 2,
   "metadata": {
    "collapsed": true
   },
   "outputs": [],
   "source": [
    "import pandas as pd\n",
    "import numpy as np\n",
    "import re"
   ]
  },
  {
   "cell_type": "code",
   "execution_count": 3,
   "metadata": {
    "collapsed": false
   },
   "outputs": [],
   "source": [
    "data=pd.read_csv('Reviews.csv')"
   ]
  },
  {
   "cell_type": "code",
   "execution_count": 4,
   "metadata": {
    "collapsed": true
   },
   "outputs": [],
   "source": [
    "reviews=data[['Text']]"
   ]
  },
  {
   "cell_type": "code",
   "execution_count": 5,
   "metadata": {
    "collapsed": false
   },
   "outputs": [
    {
     "data": {
      "text/html": [
       "<div>\n",
       "<table border=\"1\" class=\"dataframe\">\n",
       "  <thead>\n",
       "    <tr style=\"text-align: right;\">\n",
       "      <th></th>\n",
       "      <th>Text</th>\n",
       "    </tr>\n",
       "  </thead>\n",
       "  <tbody>\n",
       "    <tr>\n",
       "      <th>0</th>\n",
       "      <td>I have bought several of the Vitality canned d...</td>\n",
       "    </tr>\n",
       "    <tr>\n",
       "      <th>1</th>\n",
       "      <td>Product arrived labeled as Jumbo Salted Peanut...</td>\n",
       "    </tr>\n",
       "    <tr>\n",
       "      <th>2</th>\n",
       "      <td>This is a confection that has been around a fe...</td>\n",
       "    </tr>\n",
       "    <tr>\n",
       "      <th>3</th>\n",
       "      <td>If you are looking for the secret ingredient i...</td>\n",
       "    </tr>\n",
       "    <tr>\n",
       "      <th>4</th>\n",
       "      <td>Great taffy at a great price.  There was a wid...</td>\n",
       "    </tr>\n",
       "  </tbody>\n",
       "</table>\n",
       "</div>"
      ],
      "text/plain": [
       "                                                Text\n",
       "0  I have bought several of the Vitality canned d...\n",
       "1  Product arrived labeled as Jumbo Salted Peanut...\n",
       "2  This is a confection that has been around a fe...\n",
       "3  If you are looking for the secret ingredient i...\n",
       "4  Great taffy at a great price.  There was a wid..."
      ]
     },
     "execution_count": 5,
     "metadata": {},
     "output_type": "execute_result"
    }
   ],
   "source": [
    "reviews.head()"
   ]
  },
  {
   "cell_type": "code",
   "execution_count": 6,
   "metadata": {
    "collapsed": false
   },
   "outputs": [
    {
     "name": "stdout",
     "output_type": "stream",
     "text": [
      "Number of reviews 568454\n"
     ]
    }
   ],
   "source": [
    "print('Number of reviews',len(reviews))"
   ]
  },
  {
   "cell_type": "markdown",
   "metadata": {},
   "source": [
    "#### Data filtering"
   ]
  },
  {
   "cell_type": "code",
   "execution_count": 7,
   "metadata": {
    "collapsed": false
   },
   "outputs": [
    {
     "data": {
      "text/plain": [
       "74258"
      ]
     },
     "execution_count": 7,
     "metadata": {},
     "output_type": "execute_result"
    }
   ],
   "source": [
    "product_id=sorted(data.ProductId)\n",
    "len(set(product_id))"
   ]
  },
  {
   "cell_type": "code",
   "execution_count": 8,
   "metadata": {
    "collapsed": false
   },
   "outputs": [],
   "source": [
    "catagories=dict()\n",
    "current_id=None\n",
    "for i in product_id:\n",
    "    if i == current_id:\n",
    "        catagories[i]+=1\n",
    "    else:\n",
    "        catagories[i]=1\n",
    "        current_id=i"
   ]
  },
  {
   "cell_type": "code",
   "execution_count": 307,
   "metadata": {
    "collapsed": false
   },
   "outputs": [],
   "source": [
    "#a list of counts of product reviews in descending order\n",
    "catagories_sort=sorted(catagories.items(),key=lambda x: x[1],reverse=True)"
   ]
  },
  {
   "cell_type": "code",
   "execution_count": 10,
   "metadata": {
    "collapsed": false
   },
   "outputs": [],
   "source": [
    "product_name=pd.read_csv('ProductName.csv',encoding=\"latin-1\")"
   ]
  },
  {
   "cell_type": "code",
   "execution_count": 11,
   "metadata": {
    "collapsed": false
   },
   "outputs": [],
   "source": [
    "#capture all 'Popchips' and 'Kettle Brand' product idr from top 300 reviews counts\n",
    "import re\n",
    "popchip=[]\n",
    "kettle_brand=[]\n",
    "pop=re.compile('Popchips')\n",
    "kettle=re.compile('Kettle Brand')\n",
    "for i in range(len(product_name)):\n",
    "    r1=re.search(pop,product_name.ProductName[i])\n",
    "    r2=re.search(kettle,product_name.ProductName[i])\n",
    "    if r1 != None:\n",
    "        popchip.append(product_name.ProductId[i])\n",
    "    if r2 != None:\n",
    "        kettle_brand.append(product_name.ProductId[i])"
   ]
  },
  {
   "cell_type": "code",
   "execution_count": 309,
   "metadata": {
    "collapsed": false
   },
   "outputs": [
    {
     "name": "stdout",
     "output_type": "stream",
     "text": [
      "Popchips product id list:\n",
      " ['B000VK8AVK', 'B0013NUGDE', 'B001RVFEP2', 'B001RVFERK', 'B0026KNQSA', 'B0026KPDG8', 'B006HYLW32', 'B007M832YY', 'B007M83302', 'B001RVFDOO'] \n",
      "Kettle Brand product id list:\n",
      " ['B000G6O2QG', 'B0012XBD7I', 'B001SAXPEO', 'B004728MI4', 'B00472I5A4', 'B0058AMY10', 'B006WYSFZK', 'B000G6MBUA', 'B000G6RYNE', 'B000LKVD5U', 'B000LKXBL4', 'B0058AMY5G', 'B0058AMY74', 'B0058AMYTC']\n"
     ]
    }
   ],
   "source": [
    "print('Popchips product id list:\\n',popchip,'\\nKettle Brand product id list:\\n',kettle_brand)"
   ]
  },
  {
   "cell_type": "code",
   "execution_count": 13,
   "metadata": {
    "collapsed": false
   },
   "outputs": [],
   "source": [
    "popdf=data.ix[data['ProductId'].isin(popchip)]"
   ]
  },
  {
   "cell_type": "code",
   "execution_count": 14,
   "metadata": {
    "collapsed": false
   },
   "outputs": [
    {
     "data": {
      "text/plain": [
       "(5381, 10)"
      ]
     },
     "execution_count": 14,
     "metadata": {},
     "output_type": "execute_result"
    }
   ],
   "source": [
    "popdf.shape"
   ]
  },
  {
   "cell_type": "code",
   "execution_count": 16,
   "metadata": {
    "collapsed": true
   },
   "outputs": [],
   "source": [
    "ketdf=data.ix[data['ProductId'].isin(kettle_brand)]"
   ]
  },
  {
   "cell_type": "code",
   "execution_count": 17,
   "metadata": {
    "collapsed": false,
    "scrolled": true
   },
   "outputs": [
    {
     "data": {
      "text/plain": [
       "(3045, 10)"
      ]
     },
     "execution_count": 17,
     "metadata": {},
     "output_type": "execute_result"
    }
   ],
   "source": [
    "ketdf.shape"
   ]
  },
  {
   "cell_type": "markdown",
   "metadata": {},
   "source": [
    "# Opinion Extraction"
   ]
  },
  {
   "cell_type": "code",
   "execution_count": 15,
   "metadata": {
    "collapsed": true
   },
   "outputs": [],
   "source": [
    "popdf_rew=popdf[['Text']]"
   ]
  },
  {
   "cell_type": "code",
   "execution_count": 18,
   "metadata": {
    "collapsed": true
   },
   "outputs": [],
   "source": [
    "ketdf_rew=ketdf[['Text']]"
   ]
  },
  {
   "cell_type": "code",
   "execution_count": 19,
   "metadata": {
    "collapsed": false
   },
   "outputs": [
    {
     "name": "stderr",
     "output_type": "stream",
     "text": [
      "D:\\Anaconda3\\lib\\site-packages\\ipykernel\\__main__.py:3: SettingWithCopyWarning: \n",
      "A value is trying to be set on a copy of a slice from a DataFrame.\n",
      "Try using .loc[row_indexer,col_indexer] = value instead\n",
      "\n",
      "See the caveats in the documentation: http://pandas.pydata.org/pandas-docs/stable/indexing.html#indexing-view-versus-copy\n",
      "  app.launch_new_instance()\n",
      "D:\\Anaconda3\\lib\\site-packages\\ipykernel\\__main__.py:4: SettingWithCopyWarning: \n",
      "A value is trying to be set on a copy of a slice from a DataFrame.\n",
      "Try using .loc[row_indexer,col_indexer] = value instead\n",
      "\n",
      "See the caveats in the documentation: http://pandas.pydata.org/pandas-docs/stable/indexing.html#indexing-view-versus-copy\n"
     ]
    }
   ],
   "source": [
    "#Remove any HTML tags\n",
    "from bs4 import BeautifulSoup\n",
    "popdf_rew['Text']=popdf_rew['Text'].map(lambda x: BeautifulSoup(x, \"lxml\").get_text())\n",
    "ketdf_rew['Text']=ketdf_rew['Text'].map(lambda x: BeautifulSoup(x, \"lxml\").get_text())"
   ]
  },
  {
   "cell_type": "code",
   "execution_count": 20,
   "metadata": {
    "collapsed": false
   },
   "outputs": [
    {
     "name": "stderr",
     "output_type": "stream",
     "text": [
      "D:\\Anaconda3\\lib\\site-packages\\ipykernel\\__main__.py:1: SettingWithCopyWarning: \n",
      "A value is trying to be set on a copy of a slice from a DataFrame.\n",
      "Try using .loc[row_indexer,col_indexer] = value instead\n",
      "\n",
      "See the caveats in the documentation: http://pandas.pydata.org/pandas-docs/stable/indexing.html#indexing-view-versus-copy\n",
      "  if __name__ == '__main__':\n",
      "D:\\Anaconda3\\lib\\site-packages\\ipykernel\\__main__.py:2: SettingWithCopyWarning: \n",
      "A value is trying to be set on a copy of a slice from a DataFrame.\n",
      "Try using .loc[row_indexer,col_indexer] = value instead\n",
      "\n",
      "See the caveats in the documentation: http://pandas.pydata.org/pandas-docs/stable/indexing.html#indexing-view-versus-copy\n",
      "  from ipykernel import kernelapp as app\n"
     ]
    }
   ],
   "source": [
    "popdf_rew['features']='0'\n",
    "ketdf_rew['features']='0'"
   ]
  },
  {
   "cell_type": "code",
   "execution_count": 21,
   "metadata": {
    "collapsed": false
   },
   "outputs": [],
   "source": [
    "import nltk\n",
    "from nltk import sent_tokenize,word_tokenize\n",
    "from nltk.stem import WordNetLemmatizer\n",
    "lemmatizer=WordNetLemmatizer()"
   ]
  },
  {
   "cell_type": "code",
   "execution_count": 22,
   "metadata": {
    "collapsed": false
   },
   "outputs": [],
   "source": [
    "def extract_feat(review):\n",
    "    sent_fea_list=[]    \n",
    "    sents=sent_tokenize(review)\n",
    "    for sent in sents:\n",
    "        fea_list=[]\n",
    "        chunk_list=[]\n",
    "        word=nltk.word_tokenize(sent)\n",
    "        tags=nltk.pos_tag(word)\n",
    "\n",
    "        for i in range(len(tags)):\n",
    "            if tags[i][1] not in ['NN','NNS','NNP','NNPS']:\n",
    "                chunk_list.append(' ')\n",
    "            else:\n",
    "                chunk_list.append(tags[i][0])\n",
    "        chunk_list=' '.join(chunk_list) #create feature phrase where nouns are adjacent             \n",
    "        chunk_list=chunk_list.split('  ') #e.g.\"citrus\",\"gelatin\"->\"citrus gelatin\"           \n",
    "        for j in chunk_list:                          \n",
    "            if j != '':\n",
    "                spe_char=re.findall(re.compile('\\W'),j) #remove special characters\n",
    "                if len(spe_char)>0:                      \n",
    "                    for char in spe_char:\n",
    "                        j=j.replace(char,' ')\n",
    "                j=j.strip()\n",
    "                j=lemmatizer.lemmatize(j)\n",
    "                fea_list.append(j)\n",
    "        if fea_list != ['']:\n",
    "            sent_fea_list.append(fea_list)\n",
    "    return sent_fea_list"
   ]
  },
  {
   "cell_type": "code",
   "execution_count": 23,
   "metadata": {
    "collapsed": false
   },
   "outputs": [
    {
     "name": "stderr",
     "output_type": "stream",
     "text": [
      "D:\\Anaconda3\\lib\\site-packages\\pandas\\core\\indexing.py:141: SettingWithCopyWarning: \n",
      "A value is trying to be set on a copy of a slice from a DataFrame\n",
      "\n",
      "See the caveats in the documentation: http://pandas.pydata.org/pandas-docs/stable/indexing.html#indexing-view-versus-copy\n",
      "  self._setitem_with_indexer(indexer, value)\n",
      "D:\\Anaconda3\\lib\\site-packages\\ipykernel\\__main__.py:4: SettingWithCopyWarning: \n",
      "A value is trying to be set on a copy of a slice from a DataFrame\n",
      "\n",
      "See the caveats in the documentation: http://pandas.pydata.org/pandas-docs/stable/indexing.html#indexing-view-versus-copy\n",
      "D:\\Anaconda3\\lib\\site-packages\\ipykernel\\__main__.py:9: SettingWithCopyWarning: \n",
      "A value is trying to be set on a copy of a slice from a DataFrame\n",
      "\n",
      "See the caveats in the documentation: http://pandas.pydata.org/pandas-docs/stable/indexing.html#indexing-view-versus-copy\n"
     ]
    }
   ],
   "source": [
    "for i in range(len(popdf_rew)):\n",
    "    rew=popdf_rew['Text'].iloc[i]\n",
    "    feat=extract_feat(rew)\n",
    "    popdf_rew.iloc[i,1]=feat\n",
    "\n",
    "for i in range(len(ketdf_rew)):\n",
    "    rew=ketdf_rew['Text'].iloc[i]\n",
    "    feat=extract_feat(rew)\n",
    "    ketdf_rew.iloc[i,1]=feat"
   ]
  },
  {
   "cell_type": "code",
   "execution_count": 29,
   "metadata": {
    "collapsed": true
   },
   "outputs": [
    {
     "name": "stdout",
     "output_type": "stream",
     "text": [
      "Review:\n",
      " These chips are wonderful.  My kids and I all loved the salt and pepper.Each .8 oz bag was 100 calories, lots of chips for the calorie count.\n",
      "Feature words:\n",
      " [['chip'], ['kid', 'salt', 'pepper Each', 'bag', 'calorie', 'lot', 'chip', 'calorie count']] \n",
      "\n",
      "Review:\n",
      " These chips are wonderful.  My kids and I all loved the salt and pepper.Each .8 oz bag was 100 calories, lots of chips for the calorie count.\n",
      "Feature words:\n",
      " [['chip'], ['kid', 'salt', 'pepper Each', 'bag', 'calorie', 'lot', 'chip', 'calorie count']] \n",
      "\n",
      "Review:\n",
      " These chips are wonderful.  My kids and I all loved the salt and pepper.Each .8 oz bag was 100 calories, lots of chips for the calorie count.\n",
      "Feature words:\n",
      " [['chip'], ['kid', 'salt', 'pepper Each', 'bag', 'calorie', 'lot', 'chip', 'calorie count']] \n",
      "\n",
      "Review:\n",
      " These chips are wonderful.  My kids and I all loved the salt and pepper.Each .8 oz bag was 100 calories, lots of chips for the calorie count.\n",
      "Feature words:\n",
      " [['chip'], ['kid', 'salt', 'pepper Each', 'bag', 'calorie', 'lot', 'chip', 'calorie count']] \n",
      "\n",
      "Review:\n",
      " These chips are wonderful.  My kids and I all loved the salt and pepper.Each .8 oz bag was 100 calories, lots of chips for the calorie count.\n",
      "Feature words:\n",
      " [['chip'], ['kid', 'salt', 'pepper Each', 'bag', 'calorie', 'lot', 'chip', 'calorie count']] \n",
      "\n"
     ]
    }
   ],
   "source": [
    "for i in range (5):\n",
    "    print('Review:\\n',popdf_rew['Text'].iloc[0])\n",
    "    print('Feature words:\\n',popdf_rew['features'].iloc[0],'\\n')"
   ]
  },
  {
   "cell_type": "code",
   "execution_count": 30,
   "metadata": {
    "collapsed": true
   },
   "outputs": [
    {
     "name": "stdout",
     "output_type": "stream",
     "text": [
      "Review:\n",
      " Great if you are cutting back on fat, they do resemble regular chips but are nothing like them. Extremely dry and hard.\n",
      "Feature words:\n",
      " [['Great', 'fat', 'chip', 'nothing']] \n",
      "\n",
      "Review:\n",
      " Great if you are cutting back on fat, they do resemble regular chips but are nothing like them. Extremely dry and hard.\n",
      "Feature words:\n",
      " [['Great', 'fat', 'chip', 'nothing']] \n",
      "\n",
      "Review:\n",
      " Great if you are cutting back on fat, they do resemble regular chips but are nothing like them. Extremely dry and hard.\n",
      "Feature words:\n",
      " [['Great', 'fat', 'chip', 'nothing']] \n",
      "\n",
      "Review:\n",
      " Great if you are cutting back on fat, they do resemble regular chips but are nothing like them. Extremely dry and hard.\n",
      "Feature words:\n",
      " [['Great', 'fat', 'chip', 'nothing']] \n",
      "\n",
      "Review:\n",
      " Great if you are cutting back on fat, they do resemble regular chips but are nothing like them. Extremely dry and hard.\n",
      "Feature words:\n",
      " [['Great', 'fat', 'chip', 'nothing']] \n",
      "\n"
     ]
    }
   ],
   "source": [
    "for i in range (5):\n",
    "    print('Review:\\n',ketdf_rew['Text'].iloc[0])\n",
    "    print('Feature words:\\n',ketdf_rew['features'].iloc[0],'\\n')"
   ]
  },
  {
   "cell_type": "code",
   "execution_count": 31,
   "metadata": {
    "collapsed": false
   },
   "outputs": [],
   "source": [
    "#create a list of all transactions\n",
    "def createTrans(dataSet):\n",
    "    trans=[]\n",
    "    for l in dataSet.features:\n",
    "        flatten = [item for sublist in l for item in sublist]\n",
    "        trans.append(flatten)\n",
    "    return trans\n",
    "\n",
    "popdf_fea=createTrans(popdf_rew)\n",
    "ketdf_fea=createTrans(ketdf_rew)\n",
    "\n",
    "#create a list of all items/features in a store\n",
    "def createItems(TransData):\n",
    "    items = []\n",
    "    for transaction in TransData:\n",
    "        for x in transaction:\n",
    "            if not x in items:\n",
    "                items.append(x)\n",
    "    items.sort()\n",
    "    return items\n",
    "\n",
    "pop_items=createItems(popdf_fea)\n",
    "ket_items=createItems(ketdf_fea)\n",
    "\n",
    "#calculate p-support\n",
    "def frequency(trans, items):\n",
    "    count={}\n",
    "    for iid in items:\n",
    "        pattern='^'+iid+'$'\n",
    "        count[iid]=0\n",
    "        for tid in trans:\n",
    "            for x in tid:\n",
    "                result=re.match(re.compile(pattern),x)\n",
    "                if result != None:\n",
    "                    count[iid]+=1\n",
    "                    break   \n",
    "    count=sorted(count.items(),key=lambda x: x[1],reverse=True)\n",
    "    return count\n",
    "\n",
    "pop_freq=frequency(popdf_fea,pop_items)\n",
    "ket_freq=frequency(ketdf_fea,ket_items)"
   ]
  },
  {
   "cell_type": "code",
   "execution_count": 37,
   "metadata": {
    "collapsed": false
   },
   "outputs": [
    {
     "name": "stdout",
     "output_type": "stream",
     "text": [
      "Feature words for Popchips:\n",
      " ['chip', 'flavor', 'bag', 'taste', 'calorie', 'snack', 'salt', 'Popchips', 'fat', 'Amazon', 'time', 'potato chips', 'salty', 'thing', 'texture', 'case', 'potato', 'product', 'lot', 'order', 'something', 'box', 'crunch', 'vinegar', 'store', 'BBQ', 'way', 'price'] \n",
      "\n",
      "Feature words for Kettle Brand:\n",
      " ['chip', 'bag', 'flavor', 'taste', 'salt', 'time', 'brand', 'Amazon', 'Kettle', 'potato chips', 'case', 'product', 'way', 'crunch', 'price', 'spicy', 'snack', 'lot', 'bit', 'thing', 'amount', 'box', 'order', 'Kettle chips', 'salty', 'spice', 'Salt', 'company', 'crunchy', 'one', 'size', 'vinegar', 'friend', 'Kettle Chips', 'Sea Salt', 'ginger', 'mouth', 'oil', 'potato chip']\n"
     ]
    }
   ],
   "source": [
    "minSupport=0.1\n",
    "pop_retList=[]\n",
    "ket_retList=[]\n",
    "\n",
    "for x in pop_freq:\n",
    "    support=x[1]/len(pop_freq)\n",
    "    if support >= minSupport:\n",
    "        pop_retList.append(x[0])\n",
    "print('Feature words for Popchips:\\n',pop_retList,'\\n')\n",
    "\n",
    "for x in ket_freq:\n",
    "    support=x[1]/len(ket_freq)\n",
    "    if support >= minSupport:\n",
    "        ket_retList.append(x[0])\n",
    "print('Feature words for Kettle Brand:\\n',ket_retList)"
   ]
  },
  {
   "cell_type": "code",
   "execution_count": 38,
   "metadata": {
    "collapsed": false
   },
   "outputs": [],
   "source": [
    "#Select meaningful features\n",
    "pop_delete_list=['Amazon','time','salty','thing','product','lot','order','something','store','way','potato chips','Popchips',\n",
    "                'bag','case','box','potato']\n",
    "for x in pop_delete_list:\n",
    "    pop_retList.remove(x)"
   ]
  },
  {
   "cell_type": "code",
   "execution_count": 39,
   "metadata": {
    "collapsed": false
   },
   "outputs": [],
   "source": [
    "# Opinion Lexicon:positive and negtive words\n",
    "pos_file=open('positive-words.txt')\n",
    "pos_text=pos_file.readlines()\n",
    "pos_word=pos_text[35:]\n",
    "pos_word=[word[:-1] for word in pos_word]\n",
    "\n",
    "neg_file=open('negative-words.txt')\n",
    "neg_text=neg_file.readlines()\n",
    "neg_word=neg_text[35:]\n",
    "neg_word=[word[:-1] for word in neg_word]"
   ]
  },
  {
   "cell_type": "code",
   "execution_count": 283,
   "metadata": {
    "collapsed": false
   },
   "outputs": [],
   "source": [
    "pop_dict={}\n",
    "pop_fea_dict={}\n",
    "for x in pop_retList:\n",
    "    pop_dict[x]=[]\n",
    "    pop_fea_dict[x]=[]\n",
    "\n",
    "#opinion words extracting\n",
    "for i in range(len(popdf_rew)):#for loop each review\n",
    "    sents=sent_tokenize(popdf_rew['Text'].iloc[i])\n",
    "    for sent in sents:#for loop each sent in a review\n",
    "        words=word_tokenize(sent)                 #token each sentence\n",
    "        tags=nltk.pos_tag(words)\n",
    "\n",
    "        for fea in pop_retList:                   #decide whether the feathure is mentioned\n",
    "            for k in range(len(words)):\n",
    "                if fea == words[k]:\n",
    "                    if k < 2:                     #just take three words before and after the features into consideration\n",
    "                        start=0                   #use start and end index to limite the tags range\n",
    "                        end=k+3\n",
    "                    elif k > len(words)-3:\n",
    "                        end=len(words)\n",
    "                        start=k-3\n",
    "                    else:\n",
    "                        start=k-3\n",
    "                        end=k+3\n",
    "                    tags_range=tags[start:end]\n",
    "                    \n",
    "                    score=0\n",
    "                    count=0\n",
    "                    for tag in tags_range:\n",
    "                        if tag[0] not in pop_retList and tag[0] not in ['NN','NN','NNS','NNP','NNPS']:\n",
    "                            if tag[0] in pos_word:\n",
    "                                score+=1\n",
    "                                count+=1\n",
    "                                pop_fea_dict[fea].append(lemmatizer.lemmatize(tag[0]))\n",
    "                            elif tag[0] in neg_word and tag[0]:\n",
    "                                score-=1\n",
    "                                count+=1\n",
    "                                pop_fea_dict[fea].append(lemmatizer.lemmatize(tag[0]))\n",
    "                            elif tag[1] in ['JJ','JJR','JJS']:\n",
    "                                pop_fea_dict[fea].append(lemmatizer.lemmatize(tag[0]))\n",
    "                                \n",
    "                    if count !=0:\n",
    "                        fea_score=score/count\n",
    "                    else:\n",
    "                        fea_score=0\n",
    "                    pop_dict[fea].append(fea_score)"
   ]
  },
  {
   "cell_type": "code",
   "execution_count": 284,
   "metadata": {
    "collapsed": false
   },
   "outputs": [
    {
     "name": "stdout",
     "output_type": "stream",
     "text": [
      "        chip\t0.71\n",
      "      flavor\t0.67\n",
      "       taste\t0.58\n",
      "     calorie\t0.48\n",
      "       snack\t0.93\n",
      "        salt\t0.57\n",
      "         fat\t0.59\n",
      "     texture\t0.68\n",
      "      crunch\t1.00\n",
      "     vinegar\t0.86\n",
      "         BBQ\t0.51\n",
      "       price\t0.86\n"
     ]
    }
   ],
   "source": [
    "#print scores for each feature word\n",
    "score_list=[]\n",
    "for i in pop_retList:\n",
    "    print('%12s\\t%.2f'%(i,sum(pop_dict[i])/np.count_nonzero(pop_dict[i])))\n",
    "    score_list.append(sum(pop_dict[i])/np.count_nonzero(pop_dict[i]))"
   ]
  },
  {
   "cell_type": "code",
   "execution_count": 287,
   "metadata": {
    "collapsed": false,
    "scrolled": false
   },
   "outputs": [
    {
     "data": {
      "text/plain": [
       "<matplotlib.axes._subplots.AxesSubplot at 0x240792db4a8>"
      ]
     },
     "execution_count": 287,
     "metadata": {},
     "output_type": "execute_result"
    },
    {
     "data": {
      "image/png": "[encoded data removed]",
      "text/plain": [
       "<matplotlib.figure.Figure at 0x24078187400>"
      ]
     },
     "metadata": {},
     "output_type": "display_data"
    }
   ],
   "source": [
    "score_df=pd.DataFrame({'Features':pop_retList,'Score':score_list})\n",
    "score_df.sort_values('Score',ascending=False,inplace=True)\n",
    "\n",
    "%matplotlib inline\n",
    "score_df.plot(kind='bar',x='Features',figsize=(12,5))"
   ]
  },
  {
   "cell_type": "code",
   "execution_count": 251,
   "metadata": {
    "collapsed": true
   },
   "outputs": [],
   "source": [
    "ket_delete_list=['time','brand','Amazon','Kettle','potato chips','product','way','spicy','lot','bit','thing',\n",
    "                 'amount','order','Kettle chips','salty','company','crunchy','one','friend','Kettle Chips',\n",
    "                 'mouth','potato chip','bag','case','box','Salt','Sea Salt']\n",
    "for x in ket_delete_list:\n",
    "    ket_retList.remove(x)"
   ]
  },
  {
   "cell_type": "code",
   "execution_count": 291,
   "metadata": {
    "collapsed": true
   },
   "outputs": [],
   "source": [
    "ket_dict={}\n",
    "ket_fea_dict={}\n",
    "for x in ket_retList:\n",
    "    ket_dict[x]=[]\n",
    "    ket_fea_dict[x]=[]\n",
    "\n",
    "    #opinion words extracting\n",
    "for i in range(len(ketdf_rew)):#for loop each review\n",
    "    sents=sent_tokenize(ketdf_rew['Text'].iloc[i])\n",
    "    for sent in sents:#for loop each sent in a review\n",
    "        words=word_tokenize(sent)                 #token each sentence\n",
    "        tags=nltk.pos_tag(words)\n",
    "\n",
    "        for fea in ket_retList:                   #decide whether the feathure is mentioned\n",
    "            for k in range(len(words)):\n",
    "                if fea == words[k]:\n",
    "                    if k < 2:                     #just take three words before and after the features into consideration\n",
    "                        start=0                   #use start and end index to limite the tags range\n",
    "                        end=k+3\n",
    "                    elif k > len(words)-3:\n",
    "                        end=len(words)\n",
    "                        start=k-3\n",
    "                    else:\n",
    "                        start=k-3\n",
    "                        end=k+3\n",
    "                    tags_range=tags[start:end]\n",
    "                    \n",
    "                    score=0\n",
    "                    count=0\n",
    "                    for tag in tags_range:\n",
    "                        if tag[0] not in ket_retList and tag[0] not in ['NN','NN','NNS','NNP','NNPS']:\n",
    "                            if tag[0] in pos_word:\n",
    "                                score+=1\n",
    "                                count+=1\n",
    "                                ket_fea_dict[fea].append(lemmatizer.lemmatize(tag[0]))\n",
    "                            elif tag[0] in neg_word and tag[0]:\n",
    "                                score-=1\n",
    "                                count+=1\n",
    "                                ket_fea_dict[fea].append(lemmatizer.lemmatize(tag[0]))\n",
    "                            elif tag[1] in ['JJ','JJR','JJS']:\n",
    "                                ket_fea_dict[fea].append(lemmatizer.lemmatize(tag[0]))\n",
    "                                \n",
    "                    if count !=0:\n",
    "                        fea_score=score/count\n",
    "                    else:\n",
    "                        fea_score=0\n",
    "                    ket_dict[fea].append(fea_score)"
   ]
  },
  {
   "cell_type": "code",
   "execution_count": 292,
   "metadata": {
    "collapsed": false
   },
   "outputs": [
    {
     "name": "stdout",
     "output_type": "stream",
     "text": [
      "        chip\t0.65\n",
      "      flavor\t0.85\n",
      "       taste\t0.47\n",
      "        salt\t1.00\n",
      "      crunch\t1.00\n",
      "       price\t1.00\n",
      "       snack\t0.69\n",
      "       spice\t1.00\n",
      "        size\t0.80\n",
      "     vinegar\t1.00\n",
      "      ginger\t1.00\n",
      "         oil\t-1.00\n"
     ]
    }
   ],
   "source": [
    "score_list=[]\n",
    "for i in ket_retList:\n",
    "    print('%12s\\t%.2f'%(i,sum(ket_dict[i])/np.count_nonzero(ket_dict[i])))\n",
    "    score_list.append(sum(ket_dict[i])/np.count_nonzero(ket_dict[i]))"
   ]
  },
  {
   "cell_type": "code",
   "execution_count": 262,
   "metadata": {
    "collapsed": false
   },
   "outputs": [],
   "source": [
    "score_df=pd.DataFrame({'Features':ket_retList,'Score':score_list})"
   ]
  },
  {
   "cell_type": "code",
   "execution_count": 263,
   "metadata": {
    "collapsed": true
   },
   "outputs": [],
   "source": [
    "score_df.sort_values('Score',ascending=False,inplace=True)"
   ]
  },
  {
   "cell_type": "code",
   "execution_count": 264,
   "metadata": {
    "collapsed": false,
    "scrolled": false
   },
   "outputs": [
    {
     "data": {
      "text/plain": [
       "<matplotlib.axes._subplots.AxesSubplot at 0x2407ab90898>"
      ]
     },
     "execution_count": 264,
     "metadata": {},
     "output_type": "execute_result"
    },
    {
     "data": {
      "image/png": "[encoded data removed]",
      "text/plain": [
       "<matplotlib.figure.Figure at 0x2407adcb6d8>"
      ]
     },
     "metadata": {},
     "output_type": "display_data"
    }
   ],
   "source": [
    "%matplotlib inline\n",
    "score_df.plot(kind='bar',x='Features',figsize=(12,5))"
   ]
  },
  {
   "cell_type": "code",
   "execution_count": 289,
   "metadata": {
    "collapsed": false
   },
   "outputs": [],
   "source": [
    "from wordcloud import WordCloud, STOPWORDS\n",
    "import matplotlib.pyplot as plt"
   ]
  },
  {
   "cell_type": "code",
   "execution_count": 302,
   "metadata": {
    "collapsed": false,
    "scrolled": true
   },
   "outputs": [],
   "source": [
    "#generate word cloud\n",
    "def wordcloud(x,product):\n",
    "    text=[]\n",
    "    product=product.lower()\n",
    "    if product=='popchips':\n",
    "        for i in pop_fea_dict[x]:\n",
    "            text.append(i)\n",
    "        text=' '.join(text)\n",
    "        wordcloud = WordCloud(stopwords=STOPWORDS,background_color='white',max_words=100,\n",
    "                      max_font_size=60,collocations=False).generate(text)\n",
    "\n",
    "        plt.figure(figsize=(11, 7))\n",
    "        plt.imshow(wordcloud, interpolation=\"bilinear\")\n",
    "        plt.axis(\"off\")\n",
    "        plt.show()\n",
    "    elif product=='kettle brand':\n",
    "        for i in ket_fea_dict[x]:\n",
    "            text.append(i)\n",
    "        text=' '.join(text)\n",
    "        wordcloud = WordCloud(stopwords=STOPWORDS,background_color='white',max_words=100,\n",
    "                      max_font_size=60,collocations=False).generate(text)\n",
    "\n",
    "        plt.figure(figsize=(11, 7))\n",
    "        plt.imshow(wordcloud, interpolation=\"bilinear\")\n",
    "        plt.axis(\"off\")\n",
    "        plt.show()\n",
    "    else:\n",
    "        print('Product Name Error!')"
   ]
  },
  {
   "cell_type": "code",
   "execution_count": 305,
   "metadata": {
    "collapsed": false
   },
   "outputs": [
    {
     "data": {
      "image/png": "[encoded data removed]",
      "text/plain": [
       "<matplotlib.figure.Figure at 0x24077f7bba8>"
      ]
     },
     "metadata": {},
     "output_type": "display_data"
    }
   ],
   "source": [
    "wordcloud('crunch','popchips')"
   ]
  },
  {
   "cell_type": "code",
   "execution_count": 350,
   "metadata": {
    "collapsed": false
   },
   "outputs": [
    {
     "data": {
      "image/png": "[encoded data removed]",
      "text/plain": [
       "<matplotlib.figure.Figure at 0x24076d60ef0>"
      ]
     },
     "metadata": {},
     "output_type": "display_data"
    }
   ],
   "source": [
    "wordcloud('oil','kettle Brand')"
   ]
  },
  {
   "cell_type": "code",
   "execution_count": null,
   "metadata": {
    "collapsed": true
   },
   "outputs": [],
   "source": []
  },
  {
   "cell_type": "markdown",
   "metadata": {},
   "source": [
    "# Sentiment classification"
   ]
  },
  {
   "cell_type": "code",
   "execution_count": 351,
   "metadata": {
    "collapsed": false
   },
   "outputs": [
    {
     "name": "stderr",
     "output_type": "stream",
     "text": [
      "D:\\Anaconda3\\lib\\site-packages\\ipykernel\\__main__.py:1: SettingWithCopyWarning: \n",
      "A value is trying to be set on a copy of a slice from a DataFrame.\n",
      "Try using .loc[row_indexer,col_indexer] = value instead\n",
      "\n",
      "See the caveats in the documentation: http://pandas.pydata.org/pandas-docs/stable/indexing.html#indexing-view-versus-copy\n",
      "  if __name__ == '__main__':\n"
     ]
    }
   ],
   "source": [
    "popdf['Text']=popdf_rew['Text']"
   ]
  },
  {
   "cell_type": "code",
   "execution_count": 352,
   "metadata": {
    "collapsed": false
   },
   "outputs": [
    {
     "name": "stderr",
     "output_type": "stream",
     "text": [
      "D:\\Anaconda3\\lib\\site-packages\\ipykernel\\__main__.py:1: SettingWithCopyWarning: \n",
      "A value is trying to be set on a copy of a slice from a DataFrame.\n",
      "Try using .loc[row_indexer,col_indexer] = value instead\n",
      "\n",
      "See the caveats in the documentation: http://pandas.pydata.org/pandas-docs/stable/indexing.html#indexing-view-versus-copy\n",
      "  if __name__ == '__main__':\n"
     ]
    }
   ],
   "source": [
    "popdf['Class']='0'"
   ]
  },
  {
   "cell_type": "code",
   "execution_count": 353,
   "metadata": {
    "collapsed": false
   },
   "outputs": [
    {
     "name": "stderr",
     "output_type": "stream",
     "text": [
      "D:\\Anaconda3\\lib\\site-packages\\ipykernel\\__main__.py:1: SettingWithCopyWarning: \n",
      "A value is trying to be set on a copy of a slice from a DataFrame.\n",
      "Try using .loc[row_indexer,col_indexer] = value instead\n",
      "\n",
      "See the caveats in the documentation: http://pandas.pydata.org/pandas-docs/stable/indexing.html#indexing-view-versus-copy\n",
      "  if __name__ == '__main__':\n"
     ]
    }
   ],
   "source": [
    "popdf['Class']=popdf[['Score']].astype(str)"
   ]
  },
  {
   "cell_type": "code",
   "execution_count": 354,
   "metadata": {
    "collapsed": false
   },
   "outputs": [
    {
     "data": {
      "text/plain": [
       "5    3534\n",
       "4     850\n",
       "3     442\n",
       "1     279\n",
       "2     276\n",
       "Name: Class, dtype: int64"
      ]
     },
     "execution_count": 354,
     "metadata": {},
     "output_type": "execute_result"
    }
   ],
   "source": [
    "popdf['Class'].value_counts()"
   ]
  },
  {
   "cell_type": "code",
   "execution_count": 355,
   "metadata": {
    "collapsed": true
   },
   "outputs": [],
   "source": [
    "reviews=popdf.Text\n",
    "Class=popdf.Class"
   ]
  },
  {
   "cell_type": "code",
   "execution_count": 356,
   "metadata": {
    "collapsed": false
   },
   "outputs": [],
   "source": [
    "from nltk.tokenize import sent_tokenize,word_tokenize\n",
    "from nltk.util import ngrams\n",
    "from sklearn.cross_validation import train_test_split"
   ]
  },
  {
   "cell_type": "code",
   "execution_count": 357,
   "metadata": {
    "collapsed": false
   },
   "outputs": [
    {
     "name": "stdout",
     "output_type": "stream",
     "text": [
      "(4304,)\n",
      "(1077,)\n",
      "(4304,)\n",
      "(1077,)\n"
     ]
    }
   ],
   "source": [
    "x_train,x_test,y_train,y_test=train_test_split(reviews,Class,test_size=0.2,random_state=33)\n",
    "print(x_train.shape)\n",
    "print(x_test.shape)\n",
    "print(y_train.shape)\n",
    "print(y_test.shape)"
   ]
  },
  {
   "cell_type": "code",
   "execution_count": 358,
   "metadata": {
    "collapsed": true
   },
   "outputs": [],
   "source": [
    "#calculate class label probability\n",
    "vneg_prob=(y_train=='1').sum()/len(y_train)\n",
    "neg_prob=(y_train=='2').sum()/len(y_train)\n",
    "neut_prob=(y_train=='3').sum()/len(y_train)\n",
    "pos_prob=(y_train=='4').sum()/len(y_train)\n",
    "vpos_prob=(y_train=='5').sum()/len(y_train)"
   ]
  },
  {
   "cell_type": "code",
   "execution_count": 359,
   "metadata": {
    "collapsed": false
   },
   "outputs": [
    {
     "name": "stdout",
     "output_type": "stream",
     "text": [
      "very positive class probability:\n",
      " 0.657295539033 \n",
      "positive class probability:\n",
      " 0.157295539033 \n",
      "neutral class probability:\n",
      " 0.083875464684 \n",
      "negative class probability:\n",
      " 0.0506505576208 \n",
      "very negative class probability:\n",
      " 0.0508828996283\n"
     ]
    }
   ],
   "source": [
    "print('very positive class probability:\\n',vpos_prob,'\\npositive class probability:\\n',pos_prob,'\\nneutral class probability:\\n',neut_prob,'\\nnegative class probability:\\n',neg_prob,'\\nvery negative class probability:\\n',vneg_prob)"
   ]
  },
  {
   "cell_type": "markdown",
   "metadata": {},
   "source": [
    "### Unigram"
   ]
  },
  {
   "cell_type": "code",
   "execution_count": 427,
   "metadata": {
    "collapsed": true
   },
   "outputs": [],
   "source": [
    "from nltk.corpus import stopwords"
   ]
  },
  {
   "cell_type": "code",
   "execution_count": 428,
   "metadata": {
    "collapsed": false
   },
   "outputs": [],
   "source": [
    "stopwords=set(stopwords.words('english'))"
   ]
  },
  {
   "cell_type": "code",
   "execution_count": 450,
   "metadata": {
    "collapsed": true
   },
   "outputs": [],
   "source": [
    "uni_train=set()\n",
    "#extract all unique bigram from reviews\n",
    "for i in x_train: \n",
    "    sents=sent_tokenize(i)\n",
    "    for j in sents:\n",
    "        words=word_tokenize(j)\n",
    "        for w in words:\n",
    "            if w in stopwords:\n",
    "                words.remove(w)\n",
    "            spe_char=re.findall(re.compile('\\W'),w)\n",
    "            if len(spe_char) !=0:\n",
    "                words.remove(w)\n",
    "        uni_train=set(set(words)|uni_train)"
   ]
  },
  {
   "cell_type": "code",
   "execution_count": 451,
   "metadata": {
    "collapsed": true
   },
   "outputs": [],
   "source": [
    "#add unkown unigram type\n",
    "uni_train.add('UNK')"
   ]
  },
  {
   "cell_type": "code",
   "execution_count": 452,
   "metadata": {
    "collapsed": false
   },
   "outputs": [
    {
     "name": "stdout",
     "output_type": "stream",
     "text": [
      "# of unique unigrams: 4503\n"
     ]
    }
   ],
   "source": [
    "V=len(uni_train)\n",
    "print('# of unique unigrams:',V)"
   ]
  },
  {
   "cell_type": "code",
   "execution_count": 453,
   "metadata": {
    "collapsed": true
   },
   "outputs": [],
   "source": [
    "#create and fill in unigram emission table\n",
    "tablesize=np.zeros(shape=(V,5))\n",
    "uni_df=pd.DataFrame(tablesize,columns=['1','2','3','4','5'],index=uni_train)\n",
    "\n",
    "for i in range(len(x_train)):\n",
    "    c=str(y_train.iloc[i])\n",
    "    sents=sent_tokenize(x_train.iloc[i])\n",
    "    for j in sents:\n",
    "        words=word_tokenize(j)\n",
    "        for w in words:\n",
    "            if w in stopwords:\n",
    "                words.remove(w)\n",
    "            spe_char=re.findall(re.compile('\\W'),w)\n",
    "            if len(spe_char) !=0:\n",
    "                words.remove(w)\n",
    "        for w in words:\n",
    "            uni_df[c][w]+=1"
   ]
  },
  {
   "cell_type": "code",
   "execution_count": 454,
   "metadata": {
    "collapsed": false
   },
   "outputs": [
    {
     "name": "stdout",
     "output_type": "stream",
     "text": [
      "total counts of unigrams in very positive class: 141822.0\n",
      "total counts of unigrams in positive class: 46336.0\n",
      "total counts of unigrams in neutral class: 22011.0\n",
      "total counts of unigrams in negtive class: 12842.0\n",
      "total counts of unigrams in very negtive class: 10318.0\n"
     ]
    }
   ],
   "source": [
    "vneg_N=sum(uni_df['1'])\n",
    "neg_N=sum(uni_df['2'])\n",
    "neut_N=sum(uni_df['3'])\n",
    "pos_N=sum(uni_df['4'])\n",
    "vpos_N=sum(uni_df['5'])\n",
    "\n",
    "print('total counts of unigrams in very positive class:',vpos_N)\n",
    "print('total counts of unigrams in positive class:',pos_N)\n",
    "print('total counts of unigrams in neutral class:',neut_N)\n",
    "print('total counts of unigrams in negtive class:',neg_N)\n",
    "print('total counts of unigrams in very negtive class:',vneg_N)"
   ]
  },
  {
   "cell_type": "code",
   "execution_count": 455,
   "metadata": {
    "collapsed": true
   },
   "outputs": [],
   "source": [
    "#smooth emission table and create probability unigram table\n",
    "uni_count=np.array(uni_df)\n",
    "\n",
    "for i in range(len(uni_count)):\n",
    "    uni_count[i][0]=np.log((uni_count[i][0]+1)/(vneg_N+V))+np.log(vneg_prob)\n",
    "    uni_count[i][1]=np.log((uni_count[i][1]+1)/(neg_N+V))+np.log(neg_prob)\n",
    "    uni_count[i][2]=np.log((uni_count[i][2]+1)/(neut_N+V))+np.log(neut_prob)\n",
    "    uni_count[i][3]=np.log((uni_count[i][3]+1)/(pos_N+V))+np.log(pos_prob)\n",
    "    uni_count[i][4]=np.log((uni_count[i][4]+1)/(vpos_N+V))+np.log(vpos_prob)"
   ]
  },
  {
   "cell_type": "code",
   "execution_count": 456,
   "metadata": {
    "collapsed": true
   },
   "outputs": [],
   "source": [
    "uni_prob=pd.DataFrame(uni_count,columns=['1','2','3','4','5'],index=uni_train)"
   ]
  },
  {
   "cell_type": "code",
   "execution_count": 458,
   "metadata": {
    "collapsed": false
   },
   "outputs": [],
   "source": [
    "#predict training set sentiment class\n",
    "class_list_train=[]\n",
    "for i in range(len(x_train)):\n",
    "    vpos_score=0\n",
    "    pos_score=0\n",
    "    neut_score=0\n",
    "    neg_score=0\n",
    "    vneg_score=0\n",
    "    sents=sent_tokenize(x_train.iloc[i])\n",
    "    for j in sents:\n",
    "        words=word_tokenize(j)\n",
    "        for w in words:\n",
    "            if w in stopwords:\n",
    "                words.remove(w)\n",
    "            spe_char=re.findall(re.compile('\\W'),w)\n",
    "            if len(spe_char) !=0:\n",
    "                words.remove(w)\n",
    "        for w in words:\n",
    "            if w in uni_train:\n",
    "                vneg_score+=uni_prob['1'][w]\n",
    "                neg_score+=uni_prob['2'][w]\n",
    "                neut_score+=uni_prob['3'][w]\n",
    "                pos_score+=uni_prob['4'][w]\n",
    "                vpos_score+=uni_prob['5'][w]\n",
    "            else:\n",
    "                vneg_score+=uni_prob['1']['UNK']\n",
    "                neg_score+=uni_prob['2']['UNK']\n",
    "                neut_score+=uni_prob['3']['UNK']\n",
    "                pos_score+=uni_prob['4']['UNK']\n",
    "                vpos_score+=uni_prob['5']['UNK']\n",
    "    c=np.argmax([vneg_score,neg_score,neut_score,pos_score,vpos_score])\n",
    "    class_list_train.append(str(c+1))"
   ]
  },
  {
   "cell_type": "code",
   "execution_count": 459,
   "metadata": {
    "collapsed": false
   },
   "outputs": [
    {
     "data": {
      "text/plain": [
       "0.6589219330855018"
      ]
     },
     "execution_count": 459,
     "metadata": {},
     "output_type": "execute_result"
    }
   ],
   "source": [
    "accu_train=0\n",
    "for i in range(len(class_list_train)):\n",
    "    if class_list_train[i]==y_train.iloc[i]:\n",
    "        accu_train+=1\n",
    "accu_train=accu_train/len(class_list_train)\n",
    "accu_train"
   ]
  },
  {
   "cell_type": "code",
   "execution_count": 460,
   "metadata": {
    "collapsed": true
   },
   "outputs": [],
   "source": [
    "#predict test set sentiment class\n",
    "class_list_test=[]\n",
    "for i in range(len(x_test)):\n",
    "    vpos_score=0\n",
    "    pos_score=0\n",
    "    neut_score=0\n",
    "    neg_score=0\n",
    "    vneg_score=0\n",
    "    sents=sent_tokenize(x_test.iloc[i])\n",
    "    for j in sents:\n",
    "        words=word_tokenize(j)\n",
    "        for w in words:\n",
    "            if w in stopwords:\n",
    "                words.remove(w)\n",
    "            spe_char=re.findall(re.compile('\\W'),w)\n",
    "            if len(spe_char) !=0:\n",
    "                words.remove(w)\n",
    "        for w in words:\n",
    "            if w in uni_train:\n",
    "                vneg_score+=uni_prob['1'][w]\n",
    "                neg_score+=uni_prob['2'][w]\n",
    "                neut_score+=uni_prob['3'][w]\n",
    "                pos_score+=uni_prob['4'][w]\n",
    "                vpos_score+=uni_prob['5'][w]\n",
    "            else:\n",
    "                vneg_score+=uni_prob['1']['UNK']\n",
    "                neg_score+=uni_prob['2']['UNK']\n",
    "                neut_score+=uni_prob['3']['UNK']\n",
    "                pos_score+=uni_prob['4']['UNK']\n",
    "                vpos_score+=uni_prob['5']['UNK']\n",
    "    c=np.argmax([vneg_score,neg_score,neut_score,pos_score,vpos_score])\n",
    "    class_list_test.append(str(c+1))"
   ]
  },
  {
   "cell_type": "code",
   "execution_count": 461,
   "metadata": {
    "collapsed": false
   },
   "outputs": [
    {
     "data": {
      "text/plain": [
       "0.6564531104921077"
      ]
     },
     "execution_count": 461,
     "metadata": {},
     "output_type": "execute_result"
    }
   ],
   "source": [
    "accu_test=0\n",
    "for i in range(len(class_list_test)):\n",
    "    if class_list_test[i]==y_test.iloc[i]:\n",
    "        accu_test+=1\n",
    "accu_test=accu_test/len(class_list_test)\n",
    "accu_test"
   ]
  },
  {
   "cell_type": "code",
   "execution_count": 462,
   "metadata": {
    "collapsed": false
   },
   "outputs": [
    {
     "data": {
      "text/html": [
       "<div>\n",
       "<table border=\"1\" class=\"dataframe\">\n",
       "  <thead>\n",
       "    <tr style=\"text-align: right;\">\n",
       "      <th>Predicted</th>\n",
       "      <th>4</th>\n",
       "      <th>5</th>\n",
       "      <th>All</th>\n",
       "    </tr>\n",
       "    <tr>\n",
       "      <th>True</th>\n",
       "      <th></th>\n",
       "      <th></th>\n",
       "      <th></th>\n",
       "    </tr>\n",
       "  </thead>\n",
       "  <tbody>\n",
       "    <tr>\n",
       "      <th>1</th>\n",
       "      <td>0</td>\n",
       "      <td>60</td>\n",
       "      <td>60</td>\n",
       "    </tr>\n",
       "    <tr>\n",
       "      <th>2</th>\n",
       "      <td>0</td>\n",
       "      <td>58</td>\n",
       "      <td>58</td>\n",
       "    </tr>\n",
       "    <tr>\n",
       "      <th>3</th>\n",
       "      <td>0</td>\n",
       "      <td>81</td>\n",
       "      <td>81</td>\n",
       "    </tr>\n",
       "    <tr>\n",
       "      <th>4</th>\n",
       "      <td>2</td>\n",
       "      <td>171</td>\n",
       "      <td>173</td>\n",
       "    </tr>\n",
       "    <tr>\n",
       "      <th>5</th>\n",
       "      <td>0</td>\n",
       "      <td>705</td>\n",
       "      <td>705</td>\n",
       "    </tr>\n",
       "    <tr>\n",
       "      <th>All</th>\n",
       "      <td>2</td>\n",
       "      <td>1075</td>\n",
       "      <td>1077</td>\n",
       "    </tr>\n",
       "  </tbody>\n",
       "</table>\n",
       "</div>"
      ],
      "text/plain": [
       "Predicted  4     5   All\n",
       "True                    \n",
       "1          0    60    60\n",
       "2          0    58    58\n",
       "3          0    81    81\n",
       "4          2   171   173\n",
       "5          0   705   705\n",
       "All        2  1075  1077"
      ]
     },
     "execution_count": 462,
     "metadata": {},
     "output_type": "execute_result"
    }
   ],
   "source": [
    "y_true = pd.Series(y_test.get_values())\n",
    "y_pred = pd.Series(class_list_test)\n",
    "\n",
    "pd.crosstab(y_true, y_pred, rownames=['True'], colnames=['Predicted'], margins=True)"
   ]
  },
  {
   "cell_type": "markdown",
   "metadata": {},
   "source": [
    "### Bigram"
   ]
  },
  {
   "cell_type": "code",
   "execution_count": 429,
   "metadata": {
    "collapsed": false
   },
   "outputs": [
    {
     "name": "stderr",
     "output_type": "stream",
     "text": [
      "D:\\Anaconda3\\lib\\site-packages\\ipykernel\\__main__.py:13: DeprecationWarning: generator 'ngrams' raised StopIteration\n"
     ]
    }
   ],
   "source": [
    "bi_train=set()\n",
    "#extract all unique bigram from reviews\n",
    "for i in x_train: \n",
    "    sents=sent_tokenize(i)\n",
    "    for j in sents:\n",
    "        words=word_tokenize(j)\n",
    "        for w in words:\n",
    "            if w in stopwords:\n",
    "                words.remove(w)\n",
    "            spe_char=re.findall(re.compile('\\W'),w)\n",
    "            if len(spe_char) !=0:\n",
    "                words.remove(w)\n",
    "        bigrams=list(ngrams(words,2))\n",
    "        bi_train=set(set(bigrams)|bi_train)"
   ]
  },
  {
   "cell_type": "code",
   "execution_count": 430,
   "metadata": {
    "collapsed": true
   },
   "outputs": [],
   "source": [
    "#add unkown bigram type\n",
    "bi_train.add('UNK')"
   ]
  },
  {
   "cell_type": "code",
   "execution_count": 431,
   "metadata": {
    "collapsed": false
   },
   "outputs": [
    {
     "name": "stdout",
     "output_type": "stream",
     "text": [
      "# of unique bigrams: 24289\n"
     ]
    }
   ],
   "source": [
    "V=len(bi_train)\n",
    "print('# of unique bigrams:',V)"
   ]
  },
  {
   "cell_type": "code",
   "execution_count": 433,
   "metadata": {
    "collapsed": false
   },
   "outputs": [
    {
     "name": "stderr",
     "output_type": "stream",
     "text": [
      "D:\\Anaconda3\\lib\\site-packages\\ipykernel\\__main__.py:16: DeprecationWarning: generator 'ngrams' raised StopIteration\n"
     ]
    }
   ],
   "source": [
    "#create and fill in bigram emission table\n",
    "tablesize=np.zeros(shape=(V,5))\n",
    "bi_df=pd.DataFrame(tablesize,columns=['1','2','3','4','5'],index=bi_train)\n",
    "\n",
    "for i in range(len(x_train)):\n",
    "    c=str(y_train.iloc[i])\n",
    "    sents=sent_tokenize(x_train.iloc[i])\n",
    "    for j in sents:\n",
    "        words=word_tokenize(j)\n",
    "        for w in words:\n",
    "            if w in stopwords:\n",
    "                words.remove(w)\n",
    "            spe_char=re.findall(re.compile('\\W'),w)\n",
    "            if len(spe_char) !=0:\n",
    "                words.remove(w)\n",
    "        bigrams=list(ngrams(words,2))\n",
    "        for b in bigrams:\n",
    "            bi_df[c][b]+=1"
   ]
  },
  {
   "cell_type": "code",
   "execution_count": 437,
   "metadata": {
    "collapsed": false,
    "scrolled": true
   },
   "outputs": [
    {
     "name": "stdout",
     "output_type": "stream",
     "text": [
      "total counts of bigrams in very positive class: 128579.0\n",
      "total counts of bigrams in positive class: 42631.0\n",
      "total counts of bigrams in neutral class: 20178.0\n",
      "total counts of bigrams in negtive class: 11720.0\n",
      "total counts of bigrams in very negtive class: 9259.0\n"
     ]
    }
   ],
   "source": [
    "vneg_N=sum(bi_df['1'])\n",
    "neg_N=sum(bi_df['2'])\n",
    "neut_N=sum(bi_df['3'])\n",
    "pos_N=sum(bi_df['4'])\n",
    "vpos_N=sum(bi_df['5'])\n",
    "\n",
    "print('total counts of bigrams in very positive class:',vpos_N)\n",
    "print('total counts of bigrams in positive class:',pos_N)\n",
    "print('total counts of bigrams in neutral class:',neut_N)\n",
    "print('total counts of bigrams in negtive class:',neg_N)\n",
    "print('total counts of bigrams in very negtive class:',vneg_N)"
   ]
  },
  {
   "cell_type": "code",
   "execution_count": 438,
   "metadata": {
    "collapsed": true
   },
   "outputs": [],
   "source": [
    "#smooth emission table and create probability bigram table\n",
    "bi_count=np.array(bi_df)\n",
    "\n",
    "for i in range(len(bi_count)):    \n",
    "    bi_count[i][0]=np.log((bi_count[i][0]+1)/(vneg_N+V))+np.log(vneg_prob)\n",
    "    bi_count[i][1]=np.log((bi_count[i][1]+1)/(neg_N+V))+np.log(neg_prob)\n",
    "    bi_count[i][2]=np.log((bi_count[i][2]+1)/(neut_N+V))+np.log(neut_prob)\n",
    "    bi_count[i][3]=np.log((bi_count[i][3]+1)/(pos_N+V))+np.log(pos_prob)\n",
    "    bi_count[i][4]=np.log((bi_count[i][4]+1)/(vpos_N+V))+np.log(vpos_prob)"
   ]
  },
  {
   "cell_type": "code",
   "execution_count": 439,
   "metadata": {
    "collapsed": true
   },
   "outputs": [],
   "source": [
    "bi_prob=pd.DataFrame(bi_count,columns=['1','2','3','4','5'],index=bi_train)"
   ]
  },
  {
   "cell_type": "code",
   "execution_count": 440,
   "metadata": {
    "collapsed": false
   },
   "outputs": [
    {
     "name": "stderr",
     "output_type": "stream",
     "text": [
      "D:\\Anaconda3\\lib\\site-packages\\ipykernel\\__main__.py:18: DeprecationWarning: generator 'ngrams' raised StopIteration\n"
     ]
    }
   ],
   "source": [
    "#predict training set sentiment class\n",
    "class_list_train=[]\n",
    "for i in range(len(x_train)):\n",
    "    vpos_score=0\n",
    "    pos_score=0\n",
    "    neut_score=0\n",
    "    neg_score=0\n",
    "    vneg_score=0\n",
    "    sents=sent_tokenize(x_train.iloc[i])\n",
    "    for j in sents:\n",
    "        words=word_tokenize(j)\n",
    "        for w in words:\n",
    "            if w in stopwords:\n",
    "                words.remove(w)\n",
    "            spe_char=re.findall(re.compile('\\W'),w)\n",
    "            if len(spe_char) !=0:\n",
    "                words.remove(w)\n",
    "        bigrams=list(ngrams(words,2))\n",
    "        for b in bigrams:\n",
    "            if b in bi_train:\n",
    "                vneg_score+=bi_prob['1'][b]\n",
    "                neg_score+=bi_prob['2'][b]\n",
    "                neut_score+=bi_prob['3'][b]\n",
    "                pos_score+=bi_prob['4'][b]\n",
    "                vpos_score+=bi_prob['5'][b]\n",
    "            else:\n",
    "                vneg_score+=bi_prob['1']['UNK']\n",
    "                neg_score+=bi_prob['2']['UNK']\n",
    "                neut_score+=bi_prob['3']['UNK']\n",
    "                pos_score+=bi_prob['4']['UNK']\n",
    "                vpos_score+=bi_prob['5']['UNK']\n",
    "    c=np.argmax([vneg_score,neg_score,neut_score,pos_score,vpos_score])\n",
    "    class_list_train.append(str(c+1))"
   ]
  },
  {
   "cell_type": "code",
   "execution_count": 441,
   "metadata": {
    "collapsed": true
   },
   "outputs": [],
   "source": [
    "accu_train=0\n",
    "for i in range(len(class_list_train)):\n",
    "    if class_list_train[i]==y_train.iloc[i]:\n",
    "        accu_train+=1\n",
    "accu_train=accu_train/len(class_list_train)"
   ]
  },
  {
   "cell_type": "code",
   "execution_count": 442,
   "metadata": {
    "collapsed": false
   },
   "outputs": [
    {
     "data": {
      "text/plain": [
       "0.8968401486988847"
      ]
     },
     "execution_count": 442,
     "metadata": {},
     "output_type": "execute_result"
    }
   ],
   "source": [
    "accu_train"
   ]
  },
  {
   "cell_type": "code",
   "execution_count": 446,
   "metadata": {
    "collapsed": false,
    "scrolled": true
   },
   "outputs": [
    {
     "name": "stderr",
     "output_type": "stream",
     "text": [
      "D:\\Anaconda3\\lib\\site-packages\\ipykernel\\__main__.py:18: DeprecationWarning: generator 'ngrams' raised StopIteration\n"
     ]
    }
   ],
   "source": [
    "#predict test set sentiment class\n",
    "class_list_test=[]\n",
    "for i in range(len(x_test)):\n",
    "    vpos_score=0\n",
    "    pos_score=0\n",
    "    neut_score=0\n",
    "    neg_score=0\n",
    "    vneg_score=0\n",
    "    sents=sent_tokenize(x_test.iloc[i])\n",
    "    for j in sents:\n",
    "        words=word_tokenize(j)\n",
    "        for w in words:\n",
    "            if w in stopwords:\n",
    "                words.remove(w)\n",
    "            spe_char=re.findall(re.compile('\\W'),w)\n",
    "            if len(spe_char) !=0:\n",
    "                words.remove(w)\n",
    "        bigrams=list(ngrams(words,2))\n",
    "        for b in bigrams:\n",
    "            if b in bi_train:\n",
    "                vneg_score+=bi_prob['1'][b]\n",
    "                neg_score+=bi_prob['2'][b]\n",
    "                neut_score+=bi_prob['3'][b]\n",
    "                pos_score+=bi_prob['4'][b]\n",
    "                vpos_score+=bi_prob['5'][b]\n",
    "            else:\n",
    "                vneg_score+=bi_prob['1']['UNK']\n",
    "                neg_score+=bi_prob['2']['UNK']\n",
    "                neut_score+=bi_prob['3']['UNK']\n",
    "                pos_score+=bi_prob['4']['UNK']\n",
    "                vpos_score+=bi_prob['5']['UNK']\n",
    "    c=np.argmax([vneg_score,neg_score,neut_score,pos_score,vpos_score])\n",
    "    class_list_test.append(str(c+1))"
   ]
  },
  {
   "cell_type": "code",
   "execution_count": 447,
   "metadata": {
    "collapsed": true
   },
   "outputs": [],
   "source": [
    "accu_test=0\n",
    "for i in range(len(class_list_test)):\n",
    "    if class_list_test[i]==y_test.iloc[i]:\n",
    "        accu_test+=1\n",
    "accu_test=accu_test/len(class_list_test)"
   ]
  },
  {
   "cell_type": "code",
   "execution_count": 448,
   "metadata": {
    "collapsed": false
   },
   "outputs": [
    {
     "data": {
      "text/plain": [
       "0.861652739090065"
      ]
     },
     "execution_count": 448,
     "metadata": {},
     "output_type": "execute_result"
    }
   ],
   "source": [
    "accu_test"
   ]
  },
  {
   "cell_type": "code",
   "execution_count": 449,
   "metadata": {
    "collapsed": false
   },
   "outputs": [
    {
     "data": {
      "text/html": [
       "<div>\n",
       "<table border=\"1\" class=\"dataframe\">\n",
       "  <thead>\n",
       "    <tr style=\"text-align: right;\">\n",
       "      <th>Predicted</th>\n",
       "      <th>1</th>\n",
       "      <th>2</th>\n",
       "      <th>3</th>\n",
       "      <th>4</th>\n",
       "      <th>5</th>\n",
       "      <th>All</th>\n",
       "    </tr>\n",
       "    <tr>\n",
       "      <th>True</th>\n",
       "      <th></th>\n",
       "      <th></th>\n",
       "      <th></th>\n",
       "      <th></th>\n",
       "      <th></th>\n",
       "      <th></th>\n",
       "    </tr>\n",
       "  </thead>\n",
       "  <tbody>\n",
       "    <tr>\n",
       "      <th>1</th>\n",
       "      <td>38</td>\n",
       "      <td>0</td>\n",
       "      <td>0</td>\n",
       "      <td>0</td>\n",
       "      <td>22</td>\n",
       "      <td>60</td>\n",
       "    </tr>\n",
       "    <tr>\n",
       "      <th>2</th>\n",
       "      <td>0</td>\n",
       "      <td>14</td>\n",
       "      <td>0</td>\n",
       "      <td>0</td>\n",
       "      <td>44</td>\n",
       "      <td>58</td>\n",
       "    </tr>\n",
       "    <tr>\n",
       "      <th>3</th>\n",
       "      <td>0</td>\n",
       "      <td>0</td>\n",
       "      <td>37</td>\n",
       "      <td>0</td>\n",
       "      <td>44</td>\n",
       "      <td>81</td>\n",
       "    </tr>\n",
       "    <tr>\n",
       "      <th>4</th>\n",
       "      <td>0</td>\n",
       "      <td>0</td>\n",
       "      <td>0</td>\n",
       "      <td>134</td>\n",
       "      <td>39</td>\n",
       "      <td>173</td>\n",
       "    </tr>\n",
       "    <tr>\n",
       "      <th>5</th>\n",
       "      <td>0</td>\n",
       "      <td>0</td>\n",
       "      <td>0</td>\n",
       "      <td>0</td>\n",
       "      <td>705</td>\n",
       "      <td>705</td>\n",
       "    </tr>\n",
       "    <tr>\n",
       "      <th>All</th>\n",
       "      <td>38</td>\n",
       "      <td>14</td>\n",
       "      <td>37</td>\n",
       "      <td>134</td>\n",
       "      <td>854</td>\n",
       "      <td>1077</td>\n",
       "    </tr>\n",
       "  </tbody>\n",
       "</table>\n",
       "</div>"
      ],
      "text/plain": [
       "Predicted   1   2   3    4    5   All\n",
       "True                                 \n",
       "1          38   0   0    0   22    60\n",
       "2           0  14   0    0   44    58\n",
       "3           0   0  37    0   44    81\n",
       "4           0   0   0  134   39   173\n",
       "5           0   0   0    0  705   705\n",
       "All        38  14  37  134  854  1077"
      ]
     },
     "execution_count": 449,
     "metadata": {},
     "output_type": "execute_result"
    }
   ],
   "source": [
    "y_true = pd.Series(y_test.get_values())\n",
    "y_pred = pd.Series(class_list_test)\n",
    "\n",
    "pd.crosstab(y_true, y_pred, rownames=['True'], colnames=['Predicted'], margins=True)"
   ]
  },
  {
   "cell_type": "markdown",
   "metadata": {},
   "source": [
    "# Trigram"
   ]
  },
  {
   "cell_type": "code",
   "execution_count": 476,
   "metadata": {
    "collapsed": false,
    "scrolled": true
   },
   "outputs": [
    {
     "name": "stderr",
     "output_type": "stream",
     "text": [
      "D:\\Anaconda3\\lib\\site-packages\\ipykernel\\__main__.py:13: DeprecationWarning: generator 'ngrams' raised StopIteration\n"
     ]
    }
   ],
   "source": [
    "tri_train=set()\n",
    "#extract all unique trigram from reviews\n",
    "for i in x_train: \n",
    "    sents=sent_tokenize(i)\n",
    "    for j in sents:\n",
    "        words=word_tokenize(j)\n",
    "        for w in words:\n",
    "            if w in stopwords:\n",
    "                words.remove(w)\n",
    "            spe_char=re.findall(re.compile('\\W'),w)\n",
    "            if len(spe_char) !=0:\n",
    "                words.remove(w)\n",
    "        trigrams=list(ngrams(words,3))\n",
    "        tri_train=set(set(trigrams)|tri_train)"
   ]
  },
  {
   "cell_type": "code",
   "execution_count": 477,
   "metadata": {
    "collapsed": true
   },
   "outputs": [],
   "source": [
    "#add unkown trigram type\n",
    "tri_train.add('UNK')"
   ]
  },
  {
   "cell_type": "code",
   "execution_count": 478,
   "metadata": {
    "collapsed": false
   },
   "outputs": [
    {
     "name": "stdout",
     "output_type": "stream",
     "text": [
      "# of unique trigrams: 31830\n"
     ]
    }
   ],
   "source": [
    "V=len(tri_train)\n",
    "print('# of unique trigrams:',V)"
   ]
  },
  {
   "cell_type": "code",
   "execution_count": 479,
   "metadata": {
    "collapsed": false
   },
   "outputs": [
    {
     "name": "stderr",
     "output_type": "stream",
     "text": [
      "D:\\Anaconda3\\lib\\site-packages\\ipykernel\\__main__.py:16: DeprecationWarning: generator 'ngrams' raised StopIteration\n"
     ]
    }
   ],
   "source": [
    "#create and fill in trigram emission table\n",
    "tablesize=np.zeros(shape=(V,5))\n",
    "tri_df=pd.DataFrame(tablesize,columns=['1','2','3','4','5'],index=tri_train)\n",
    "\n",
    "for i in range(len(x_train)):\n",
    "    c=str(y_train.iloc[i])\n",
    "    sents=sent_tokenize(x_train.iloc[i])\n",
    "    for j in sents:\n",
    "        words=word_tokenize(j)\n",
    "        for w in words:\n",
    "            if w in stopwords:\n",
    "                words.remove(w)\n",
    "            spe_char=re.findall(re.compile('\\W'),w)\n",
    "            if len(spe_char) !=0:\n",
    "                words.remove(w)\n",
    "        trigrams=list(ngrams(words,3))\n",
    "        for t in trigrams:\n",
    "            tri_df[c][t]+=1"
   ]
  },
  {
   "cell_type": "code",
   "execution_count": 480,
   "metadata": {
    "collapsed": false
   },
   "outputs": [
    {
     "name": "stdout",
     "output_type": "stream",
     "text": [
      "total counts of trigrams in very positive class: 115509.0\n",
      "total counts of trigrams in positive class: 38967.0\n",
      "total counts of trigrams in neutral class: 18354.0\n",
      "total counts of trigrams in negtive class: 10611.0\n",
      "total counts of trigrams in very negtive class: 8228.0\n"
     ]
    }
   ],
   "source": [
    "vneg_N=sum(tri_df['1'])\n",
    "neg_N=sum(tri_df['2'])\n",
    "neut_N=sum(tri_df['3'])\n",
    "pos_N=sum(tri_df['4'])\n",
    "vpos_N=sum(tri_df['5'])\n",
    "\n",
    "print('total counts of trigrams in very positive class:',vpos_N)\n",
    "print('total counts of trigrams in positive class:',pos_N)\n",
    "print('total counts of trigrams in neutral class:',neut_N)\n",
    "print('total counts of trigrams in negtive class:',neg_N)\n",
    "print('total counts of trigrams in very negtive class:',vneg_N)"
   ]
  },
  {
   "cell_type": "code",
   "execution_count": 481,
   "metadata": {
    "collapsed": true
   },
   "outputs": [],
   "source": [
    "#smooth emission table and create probability trigram table\n",
    "tri_count=np.array(tri_df)\n",
    "\n",
    "for i in range(len(tri_count)):    \n",
    "    tri_count[i][0]=np.log((tri_count[i][0]+1)/(vneg_N+V))+np.log(vneg_prob)\n",
    "    tri_count[i][1]=np.log((tri_count[i][1]+1)/(neg_N+V))+np.log(neg_prob)\n",
    "    tri_count[i][2]=np.log((tri_count[i][2]+1)/(neut_N+V))+np.log(neut_prob)\n",
    "    tri_count[i][3]=np.log((tri_count[i][3]+1)/(pos_N+V))+np.log(pos_prob)\n",
    "    tri_count[i][4]=np.log((tri_count[i][4]+1)/(vpos_N+V))+np.log(vpos_prob)"
   ]
  },
  {
   "cell_type": "code",
   "execution_count": 482,
   "metadata": {
    "collapsed": true
   },
   "outputs": [],
   "source": [
    "tri_prob=pd.DataFrame(tri_count,columns=['1','2','3','4','5'],index=tri_train)"
   ]
  },
  {
   "cell_type": "code",
   "execution_count": 483,
   "metadata": {
    "collapsed": false
   },
   "outputs": [
    {
     "name": "stderr",
     "output_type": "stream",
     "text": [
      "D:\\Anaconda3\\lib\\site-packages\\ipykernel\\__main__.py:18: DeprecationWarning: generator 'ngrams' raised StopIteration\n"
     ]
    }
   ],
   "source": [
    "#predict training set sentiment class\n",
    "class_list_train=[]\n",
    "for i in range(len(x_train)):\n",
    "    vpos_score=0\n",
    "    pos_score=0\n",
    "    neut_score=0\n",
    "    neg_score=0\n",
    "    vneg_score=0\n",
    "    sents=sent_tokenize(x_train.iloc[i])\n",
    "    for j in sents:\n",
    "        words=word_tokenize(j)\n",
    "        for w in words:\n",
    "            if w in stopwords:\n",
    "                words.remove(w)\n",
    "            spe_char=re.findall(re.compile('\\W'),w)\n",
    "            if len(spe_char) !=0:\n",
    "                words.remove(w)\n",
    "        trigrams=list(ngrams(words,3))\n",
    "        for t in trigrams:\n",
    "            if t in tri_train:\n",
    "                vneg_score+=tri_prob['1'][t]\n",
    "                neg_score+=tri_prob['2'][t]\n",
    "                neut_score+=tri_prob['3'][t]\n",
    "                pos_score+=tri_prob['4'][t]\n",
    "                vpos_score+=tri_prob['5'][t]\n",
    "            else:\n",
    "                vneg_score+=tri_prob['1']['UNK']\n",
    "                neg_score+=tri_prob['2']['UNK']\n",
    "                neut_score+=tri_prob['3']['UNK']\n",
    "                pos_score+=tri_prob['4']['UNK']\n",
    "                vpos_score+=tri_prob['5']['UNK']\n",
    "    c=np.argmax([vneg_score,neg_score,neut_score,pos_score,vpos_score])\n",
    "    class_list_train.append(str(c+1))"
   ]
  },
  {
   "cell_type": "code",
   "execution_count": 484,
   "metadata": {
    "collapsed": false
   },
   "outputs": [
    {
     "data": {
      "text/plain": [
       "0.9809479553903345"
      ]
     },
     "execution_count": 484,
     "metadata": {},
     "output_type": "execute_result"
    }
   ],
   "source": [
    "accu_train=0\n",
    "for i in range(len(class_list_train)):\n",
    "    if class_list_train[i]==y_train.iloc[i]:\n",
    "        accu_train+=1\n",
    "accu_train=accu_train/len(class_list_train)\n",
    "accu_train"
   ]
  },
  {
   "cell_type": "code",
   "execution_count": 485,
   "metadata": {
    "collapsed": false
   },
   "outputs": [
    {
     "name": "stderr",
     "output_type": "stream",
     "text": [
      "D:\\Anaconda3\\lib\\site-packages\\ipykernel\\__main__.py:18: DeprecationWarning: generator 'ngrams' raised StopIteration\n"
     ]
    }
   ],
   "source": [
    "#predict test set sentiment class\n",
    "class_list_test=[]\n",
    "for i in range(len(x_test)):\n",
    "    vpos_score=0\n",
    "    pos_score=0\n",
    "    neut_score=0\n",
    "    neg_score=0\n",
    "    vneg_score=0\n",
    "    sents=sent_tokenize(x_test.iloc[i])\n",
    "    for j in sents:\n",
    "        words=word_tokenize(j)\n",
    "        for w in words:\n",
    "            if w in stopwords:\n",
    "                words.remove(w)\n",
    "            spe_char=re.findall(re.compile('\\W'),w)\n",
    "            if len(spe_char) !=0:\n",
    "                words.remove(w)\n",
    "        trigrams=list(ngrams(words,3))\n",
    "        for t in trigrams:\n",
    "            if t in tri_train:\n",
    "                vneg_score+=tri_prob['1'][t]\n",
    "                neg_score+=tri_prob['2'][t]\n",
    "                neut_score+=tri_prob['3'][t]\n",
    "                pos_score+=tri_prob['4'][t]\n",
    "                vpos_score+=tri_prob['5'][t]\n",
    "            else:\n",
    "                vneg_score+=tri_prob['1']['UNK']\n",
    "                neg_score+=tri_prob['2']['UNK']\n",
    "                neut_score+=tri_prob['3']['UNK']\n",
    "                pos_score+=tri_prob['4']['UNK']\n",
    "                vpos_score+=tri_prob['5']['UNK']\n",
    "    c=np.argmax([vneg_score,neg_score,neut_score,pos_score,vpos_score])\n",
    "    class_list_test.append(str(c+1))"
   ]
  },
  {
   "cell_type": "code",
   "execution_count": 486,
   "metadata": {
    "collapsed": false
   },
   "outputs": [
    {
     "data": {
      "text/plain": [
       "0.978644382544104"
      ]
     },
     "execution_count": 486,
     "metadata": {},
     "output_type": "execute_result"
    }
   ],
   "source": [
    "accu_test=0\n",
    "for i in range(len(class_list_test)):\n",
    "    if class_list_test[i]==y_test.iloc[i]:\n",
    "        accu_test+=1\n",
    "accu_test=accu_test/len(class_list_test)\n",
    "accu_test"
   ]
  },
  {
   "cell_type": "code",
   "execution_count": 487,
   "metadata": {
    "collapsed": false,
    "scrolled": true
   },
   "outputs": [
    {
     "data": {
      "text/html": [
       "<div>\n",
       "<table border=\"1\" class=\"dataframe\">\n",
       "  <thead>\n",
       "    <tr style=\"text-align: right;\">\n",
       "      <th>Predicted</th>\n",
       "      <th>1</th>\n",
       "      <th>2</th>\n",
       "      <th>3</th>\n",
       "      <th>4</th>\n",
       "      <th>5</th>\n",
       "      <th>All</th>\n",
       "    </tr>\n",
       "    <tr>\n",
       "      <th>True</th>\n",
       "      <th></th>\n",
       "      <th></th>\n",
       "      <th></th>\n",
       "      <th></th>\n",
       "      <th></th>\n",
       "      <th></th>\n",
       "    </tr>\n",
       "  </thead>\n",
       "  <tbody>\n",
       "    <tr>\n",
       "      <th>1</th>\n",
       "      <td>57</td>\n",
       "      <td>0</td>\n",
       "      <td>0</td>\n",
       "      <td>0</td>\n",
       "      <td>3</td>\n",
       "      <td>60</td>\n",
       "    </tr>\n",
       "    <tr>\n",
       "      <th>2</th>\n",
       "      <td>0</td>\n",
       "      <td>48</td>\n",
       "      <td>0</td>\n",
       "      <td>0</td>\n",
       "      <td>10</td>\n",
       "      <td>58</td>\n",
       "    </tr>\n",
       "    <tr>\n",
       "      <th>3</th>\n",
       "      <td>0</td>\n",
       "      <td>0</td>\n",
       "      <td>76</td>\n",
       "      <td>0</td>\n",
       "      <td>5</td>\n",
       "      <td>81</td>\n",
       "    </tr>\n",
       "    <tr>\n",
       "      <th>4</th>\n",
       "      <td>0</td>\n",
       "      <td>0</td>\n",
       "      <td>0</td>\n",
       "      <td>168</td>\n",
       "      <td>5</td>\n",
       "      <td>173</td>\n",
       "    </tr>\n",
       "    <tr>\n",
       "      <th>5</th>\n",
       "      <td>0</td>\n",
       "      <td>0</td>\n",
       "      <td>0</td>\n",
       "      <td>0</td>\n",
       "      <td>705</td>\n",
       "      <td>705</td>\n",
       "    </tr>\n",
       "    <tr>\n",
       "      <th>All</th>\n",
       "      <td>57</td>\n",
       "      <td>48</td>\n",
       "      <td>76</td>\n",
       "      <td>168</td>\n",
       "      <td>728</td>\n",
       "      <td>1077</td>\n",
       "    </tr>\n",
       "  </tbody>\n",
       "</table>\n",
       "</div>"
      ],
      "text/plain": [
       "Predicted   1   2   3    4    5   All\n",
       "True                                 \n",
       "1          57   0   0    0    3    60\n",
       "2           0  48   0    0   10    58\n",
       "3           0   0  76    0    5    81\n",
       "4           0   0   0  168    5   173\n",
       "5           0   0   0    0  705   705\n",
       "All        57  48  76  168  728  1077"
      ]
     },
     "execution_count": 487,
     "metadata": {},
     "output_type": "execute_result"
    }
   ],
   "source": [
    "y_true = pd.Series(y_test.get_values())\n",
    "y_pred = pd.Series(class_list_test)\n",
    "\n",
    "pd.crosstab(y_true, y_pred, rownames=['True'], colnames=['Predicted'], margins=True)"
   ]
  },
  {
   "cell_type": "code",
   "execution_count": null,
   "metadata": {
    "collapsed": true
   },
   "outputs": [],
   "source": []
  },
  {
   "cell_type": "code",
   "execution_count": null,
   "metadata": {
    "collapsed": true
   },
   "outputs": [],
   "source": []
  }
 ],
 "metadata": {
  "kernelspec": {
   "display_name": "Python 3",
   "language": "python",
   "name": "python3"
  },
  "language_info": {
   "codemirror_mode": {
    "name": "ipython",
    "version": 3
   },
   "file_extension": ".py",
   "mimetype": "text/x-python",
   "name": "python",
   "nbconvert_exporter": "python",
   "pygments_lexer": "ipython3",
   "version": "3.6.0"
  }
 },
 "nbformat": 4,
 "nbformat_minor": 2
}
